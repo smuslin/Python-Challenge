{
 "cells": [
  {
   "cell_type": "code",
   "execution_count": null,
   "metadata": {},
   "outputs": [],
   "source": [
    "import csv\n",
    "from pathlib import Path\n",
    "\n",
    "# @TODO: Set file paths for menu_data.csv and sales_data.csv\n",
    "menu_filepath = Path('C:\\\\Users\\\\samus\\\\OneDrive\\\\Desktop\\\\Starter_Code\\\\PyRamen\\\\Resources\\\\menu_data.csv')\n",
    "sales_filepath = Path('C:\\\\Users\\\\samus\\\\OneDrive\\\\Desktop\\\\Starter_Code\\\\PyRamen\\\\Resources\\\\sales_data.csv')\n",
    "\n",
    "# @TODO: Initialize list objects to hold our menu and sales data\n",
    "menu = []\n",
    "sales = []"
   ]
  },
  {
   "cell_type": "code",
   "execution_count": null,
   "metadata": {},
   "outputs": [],
   "source": [
    "# @TODO: Read in the menu data into the menu list\n",
    "\n",
    "menu_file = \"C:\\\\Users\\\\samus\\\\OneDrive\\\\Desktop\\\\Starter_Code\\\\PyRamen\\\\Resources\\\\menu_data.csv\"\n",
    "with open(menu_file, \"r\", newline=\"\") as csvfile:\n",
    "    csvreader = csv.reader(csvfile)\n",
    "    next(csvreader)  # Skip the header row\n",
    "    for row in csvreader:\n",
    "        menu.append(row)\n",
    "       "
   ]
  },
  {
   "cell_type": "code",
   "execution_count": null,
   "metadata": {},
   "outputs": [],
   "source": [
    "# @TODO: Read in the sales data into the sales list\n",
    "\n",
    "menu_file = \"C:\\\\Users\\\\samus\\\\OneDrive\\\\Desktop\\\\Starter_Code\\\\PyRamen\\\\Resources\\\\menu_data.csv\"\n",
    "with open(sales_filepath, \"r\", newline=\"\") as csvfile:\n",
    "    csvreader = csv.reader(csvfile)\n",
    "    next(csvreader)  # Skip the header row\n",
    "    for row in csvreader:\n",
    "        sales.append(row)\n",
    "       "
   ]
  },
  {
   "cell_type": "code",
   "execution_count": null,
   "metadata": {},
   "outputs": [],
   "source": [
    "# @TODO: Initialize dict object to hold our key-value pairs of items and metrics\n",
    "report = {}\n",
    "\n",
    "# Initialize a row counter variable\n",
    "row_count = 0\n",
    "\n",
    "# @TODO: Loop over every row in the sales list object\n",
    "for sale in sales:\n",
    "\n",
    "# Line_Item_ID,Date,Credit_Card_Number,Quantity,Menu_Item\n",
    "    # @TODO: Initialize sales data variables\n",
    "     quantity = int(sale[3])\n",
    "     sales_item = sale[4]\n",
    "     if sales_item not in report.keys():\n",
    "        report[sales_item] = {\n",
    "            \"01-count\": 0,\n",
    "            \"02-revenue\": 0,\n",
    "            \"03-cogs\": 0,\n",
    "            \"04-profit\": 0\n",
    "        }\n",
    "\n",
    "  # @TODO: For every row in our sales data, loop over the menu records to determine a match\n",
    "     for menu_item in menu:\n",
    "\n",
    "        # Item,Category,Description,Price,Cost\n",
    "        # @TODO: Initialize menu data variables\n",
    "         item = menu_item[0]\n",
    "         price = float(menu_item[3])\n",
    "         cost = float(menu_item[4])\n",
    "\n",
    "\n",
    "\n",
    "        # @TODO: Calculate profit of each item in the menu data\n",
    "         profit = price - cost\n",
    "# @TODO: If the item value in our sales data is equal to the any of the items in the menu, then begin tracking metrics for that item\n",
    "         if sales_item == item:\n",
    "\n",
    "             report[sales_item][\"01-count\"] += quantity\n",
    "             report[sales_item][\"02-revenue\"] += price * quantity\n",
    "             report[sales_item][\"03-cogs\"] += cost * quantity\n",
    "             report[sales_item][\"04-profit\"] += profit * quantity\n",
    "\n",
    "                # @TODO: Print out matching menu data\n",
    "             print(f\"Matched: {sales_item} with {item}\")\n",
    "         else:\n",
    "             print(f'Does {sales_item} equal {menu_item[0]}, no match')\n",
    "     row_count += 1"
   ]
  },
  {
   "cell_type": "code",
   "execution_count": null,
   "metadata": {},
   "outputs": [],
   "source": [
    "print(f'Total number of records: {row_count}')"
   ]
  },
  {
   "cell_type": "code",
   "execution_count": null,
   "metadata": {},
   "outputs": [],
   "source": [
    "# Define the output file path\n",
    "output_file_path = \"report.txt\"\n",
    "\n",
    "# Open the output file for writing\n",
    "with open(output_file_path, \"w\") as output_file:\n",
    "    # Loop through the report dictionary and write the data to the file\n",
    "    for ramen_type, metrics in report.items():\n",
    "        output_file.write(f\"{ramen_type} {metrics}\\n\")"
   ]
  },
  {
   "cell_type": "code",
   "execution_count": null,
   "metadata": {},
   "outputs": [],
   "source": [
    "# Print a message indicating the report has been written to the file\n",
    "print(\"Report has been written to report.txt\")"
   ]
  },
  {
   "cell_type": "code",
   "execution_count": null,
   "metadata": {},
   "outputs": [],
   "source": []
  }
 ],
 "metadata": {
  "kernelspec": {
   "display_name": "dev",
   "language": "python",
   "name": "python3"
  },
  "language_info": {
   "codemirror_mode": {
    "name": "ipython",
    "version": 3
   },
   "file_extension": ".py",
   "mimetype": "text/x-python",
   "name": "python",
   "nbconvert_exporter": "python",
   "pygments_lexer": "ipython3",
   "version": "3.10.13"
  },
  "orig_nbformat": 4
 },
 "nbformat": 4,
 "nbformat_minor": 2
}

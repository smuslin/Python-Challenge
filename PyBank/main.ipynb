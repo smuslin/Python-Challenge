{
 "cells": [
  {
   "cell_type": "code",
   "execution_count": 35,
   "metadata": {},
   "outputs": [],
   "source": [
    "# Import the pathlib and csv library\n",
    "import csv\n",
    "from pathlib import Path\n",
    "\n",
    "\n",
    "# Set the file path\n",
    "csvpath = Path('Starter_Code/PyBank/Resources/budget_data.csv')\n",
    "\n",
    "# Initialize variable to hold salaries\n",
    "list_Date = []\n",
    "list_profit_loss = []\n",
    "list_change_profit = []\n",
    "total_months = []"
   ]
  },
  {
   "cell_type": "code",
   "execution_count": 36,
   "metadata": {},
   "outputs": [
    {
     "name": "stdout",
     "output_type": "stream",
     "text": [
      "c:\\Users\\samus\\OneDrive\\Desktop\\UCB-VIRT-FIN-PT-09-2023-U-LOLC\\Starter_Code\\PyBank\n"
     ]
    }
   ],
   "source": [
    "!cd"
   ]
  },
  {
   "cell_type": "code",
   "execution_count": 37,
   "metadata": {},
   "outputs": [
    {
     "ename": "FileNotFoundError",
     "evalue": "[Errno 2] No such file or directory: 'Starter_Code\\\\PyBank\\\\Resources\\\\budget_data.csv'",
     "output_type": "error",
     "traceback": [
      "\u001b[1;31m---------------------------------------------------------------------------\u001b[0m",
      "\u001b[1;31mFileNotFoundError\u001b[0m                         Traceback (most recent call last)",
      "\u001b[1;32mc:\\Users\\samus\\OneDrive\\Desktop\\UCB-VIRT-FIN-PT-09-2023-U-LOLC\\Starter_Code\\PyBank\\main.ipynb Cell 3\u001b[0m line \u001b[0;36m2\n\u001b[0;32m      <a href='vscode-notebook-cell:/c%3A/Users/samus/OneDrive/Desktop/UCB-VIRT-FIN-PT-09-2023-U-LOLC/Starter_Code/PyBank/main.ipynb#W3sZmlsZQ%3D%3D?line=0'>1</a>\u001b[0m \u001b[39m# Open the input path as a file object\u001b[39;00m\n\u001b[1;32m----> <a href='vscode-notebook-cell:/c%3A/Users/samus/OneDrive/Desktop/UCB-VIRT-FIN-PT-09-2023-U-LOLC/Starter_Code/PyBank/main.ipynb#W3sZmlsZQ%3D%3D?line=1'>2</a>\u001b[0m \u001b[39mwith\u001b[39;00m \u001b[39mopen\u001b[39;49m(csvpath) \u001b[39mas\u001b[39;00m csvfile:\n\u001b[0;32m      <a href='vscode-notebook-cell:/c%3A/Users/samus/OneDrive/Desktop/UCB-VIRT-FIN-PT-09-2023-U-LOLC/Starter_Code/PyBank/main.ipynb#W3sZmlsZQ%3D%3D?line=2'>3</a>\u001b[0m \n\u001b[0;32m      <a href='vscode-notebook-cell:/c%3A/Users/samus/OneDrive/Desktop/UCB-VIRT-FIN-PT-09-2023-U-LOLC/Starter_Code/PyBank/main.ipynb#W3sZmlsZQ%3D%3D?line=3'>4</a>\u001b[0m \n\u001b[0;32m      <a href='vscode-notebook-cell:/c%3A/Users/samus/OneDrive/Desktop/UCB-VIRT-FIN-PT-09-2023-U-LOLC/Starter_Code/PyBank/main.ipynb#W3sZmlsZQ%3D%3D?line=4'>5</a>\u001b[0m \n\u001b[0;32m      <a href='vscode-notebook-cell:/c%3A/Users/samus/OneDrive/Desktop/UCB-VIRT-FIN-PT-09-2023-U-LOLC/Starter_Code/PyBank/main.ipynb#W3sZmlsZQ%3D%3D?line=5'>6</a>\u001b[0m     \u001b[39m# Pass in the csv file to the csv.reader() function\u001b[39;00m\n\u001b[0;32m      <a href='vscode-notebook-cell:/c%3A/Users/samus/OneDrive/Desktop/UCB-VIRT-FIN-PT-09-2023-U-LOLC/Starter_Code/PyBank/main.ipynb#W3sZmlsZQ%3D%3D?line=6'>7</a>\u001b[0m     \u001b[39m# (with ',' as the delmiter/separator) and return the csvreader object\u001b[39;00m\n\u001b[0;32m      <a href='vscode-notebook-cell:/c%3A/Users/samus/OneDrive/Desktop/UCB-VIRT-FIN-PT-09-2023-U-LOLC/Starter_Code/PyBank/main.ipynb#W3sZmlsZQ%3D%3D?line=7'>8</a>\u001b[0m     csvreader \u001b[39m=\u001b[39m csv\u001b[39m.\u001b[39mreader(csvfile, delimiter\u001b[39m=\u001b[39m\u001b[39m'\u001b[39m\u001b[39m,\u001b[39m\u001b[39m'\u001b[39m)\n\u001b[0;32m     <a href='vscode-notebook-cell:/c%3A/Users/samus/OneDrive/Desktop/UCB-VIRT-FIN-PT-09-2023-U-LOLC/Starter_Code/PyBank/main.ipynb#W3sZmlsZQ%3D%3D?line=10'>11</a>\u001b[0m     \u001b[39m# Go to the next row from the start of the file\u001b[39;00m\n\u001b[0;32m     <a href='vscode-notebook-cell:/c%3A/Users/samus/OneDrive/Desktop/UCB-VIRT-FIN-PT-09-2023-U-LOLC/Starter_Code/PyBank/main.ipynb#W3sZmlsZQ%3D%3D?line=11'>12</a>\u001b[0m     \u001b[39m# (which is often the first row/header) and iterate line_num by 1\u001b[39;00m\n",
      "File \u001b[1;32mc:\\Users\\samus\\anaconda3\\envs\\dev\\lib\\site-packages\\IPython\\core\\interactiveshell.py:286\u001b[0m, in \u001b[0;36m_modified_open\u001b[1;34m(file, *args, **kwargs)\u001b[0m\n\u001b[0;32m    279\u001b[0m \u001b[39mif\u001b[39;00m file \u001b[39min\u001b[39;00m {\u001b[39m0\u001b[39m, \u001b[39m1\u001b[39m, \u001b[39m2\u001b[39m}:\n\u001b[0;32m    280\u001b[0m     \u001b[39mraise\u001b[39;00m \u001b[39mValueError\u001b[39;00m(\n\u001b[0;32m    281\u001b[0m         \u001b[39mf\u001b[39m\u001b[39m\"\u001b[39m\u001b[39mIPython won\u001b[39m\u001b[39m'\u001b[39m\u001b[39mt let you open fd=\u001b[39m\u001b[39m{\u001b[39;00mfile\u001b[39m}\u001b[39;00m\u001b[39m by default \u001b[39m\u001b[39m\"\u001b[39m\n\u001b[0;32m    282\u001b[0m         \u001b[39m\"\u001b[39m\u001b[39mas it is likely to crash IPython. If you know what you are doing, \u001b[39m\u001b[39m\"\u001b[39m\n\u001b[0;32m    283\u001b[0m         \u001b[39m\"\u001b[39m\u001b[39myou can use builtins\u001b[39m\u001b[39m'\u001b[39m\u001b[39m open.\u001b[39m\u001b[39m\"\u001b[39m\n\u001b[0;32m    284\u001b[0m     )\n\u001b[1;32m--> 286\u001b[0m \u001b[39mreturn\u001b[39;00m io_open(file, \u001b[39m*\u001b[39margs, \u001b[39m*\u001b[39m\u001b[39m*\u001b[39mkwargs)\n",
      "\u001b[1;31mFileNotFoundError\u001b[0m: [Errno 2] No such file or directory: 'Starter_Code\\\\PyBank\\\\Resources\\\\budget_data.csv'"
     ]
    }
   ],
   "source": [
    "# Open the input path as a file object\n",
    "with open(csvpath) as csvfile:\n",
    "\n",
    "\n",
    "\n",
    "    # Pass in the csv file to the csv.reader() function\n",
    "    # (with ',' as the delmiter/separator) and return the csvreader object\n",
    "    csvreader = csv.reader(csvfile, delimiter=',')\n",
    "\n",
    "\n",
    "    # Go to the next row from the start of the file\n",
    "    # (which is often the first row/header) and iterate line_num by 1\n",
    "    header = next(csvreader)\n",
    "  \n",
    "\n",
    "\n",
    "    # Read each row of data after the header\n",
    "    for row in csvreader:\n",
    "    \n",
    "        # Set salary variable equal to the value in the 4th column of each row\n",
    "        dates1 = str(row[0])\n",
    "        # Append the row salary value to the list of salaries\n",
    "        list_Date.append(dates1)\n",
    "        profit_loss1 = int(row[1])\n",
    "        list_profit_loss.append(profit_loss1)\n",
    "       \n",
    "       \n",
    "        \n",
    "    print(list_Date)\n",
    "    print(list_profit_loss)\n",
    "print('toal sum of profit')\n",
    "print(sum(list_profit_loss))\n",
    "print('GREATEST INCREASE IN PROFITS')\n",
    "print(max(list_profit_loss))\n",
    "print('total months')\n",
    "print(len(list_Date))\n",
    "print('greatest decrease in profits')\n",
    "print(min(list_profit_loss))\n"
   ]
  },
  {
   "cell_type": "code",
   "execution_count": 38,
   "metadata": {},
   "outputs": [],
   "source": [
    "# Calculate the change in profit/loss for each month\n",
    "for i in range(1, len(list_profit_loss)):\n",
    "    change = list_profit_loss[i] - list_profit_loss[i - 1]\n",
    "    list_change_profit.append(change)"
   ]
  },
  {
   "cell_type": "code",
   "execution_count": 39,
   "metadata": {},
   "outputs": [
    {
     "ename": "TypeError",
     "evalue": "unsupported operand type(s) for -: 'list' and 'int'",
     "output_type": "error",
     "traceback": [
      "\u001b[1;31m---------------------------------------------------------------------------\u001b[0m",
      "\u001b[1;31mTypeError\u001b[0m                                 Traceback (most recent call last)",
      "\u001b[1;32mc:\\Users\\samus\\OneDrive\\Desktop\\UCB-VIRT-FIN-PT-09-2023-U-LOLC\\Starter_Code\\PyBank\\main.ipynb Cell 5\u001b[0m line \u001b[0;36m2\n\u001b[0;32m      <a href='vscode-notebook-cell:/c%3A/Users/samus/OneDrive/Desktop/UCB-VIRT-FIN-PT-09-2023-U-LOLC/Starter_Code/PyBank/main.ipynb#X15sZmlsZQ%3D%3D?line=0'>1</a>\u001b[0m \u001b[39m# Calculate the average change in profit/loss\u001b[39;00m\n\u001b[1;32m----> <a href='vscode-notebook-cell:/c%3A/Users/samus/OneDrive/Desktop/UCB-VIRT-FIN-PT-09-2023-U-LOLC/Starter_Code/PyBank/main.ipynb#X15sZmlsZQ%3D%3D?line=1'>2</a>\u001b[0m average_change \u001b[39m=\u001b[39m \u001b[39mround\u001b[39m(\u001b[39msum\u001b[39m(list_change_profit) \u001b[39m/\u001b[39m (total_months \u001b[39m-\u001b[39;49m \u001b[39m1\u001b[39;49m), \u001b[39m2\u001b[39m)\n\u001b[0;32m      <a href='vscode-notebook-cell:/c%3A/Users/samus/OneDrive/Desktop/UCB-VIRT-FIN-PT-09-2023-U-LOLC/Starter_Code/PyBank/main.ipynb#X15sZmlsZQ%3D%3D?line=3'>4</a>\u001b[0m \u001b[39m# Find the greatest increase and decrease in profits\u001b[39;00m\n\u001b[0;32m      <a href='vscode-notebook-cell:/c%3A/Users/samus/OneDrive/Desktop/UCB-VIRT-FIN-PT-09-2023-U-LOLC/Starter_Code/PyBank/main.ipynb#X15sZmlsZQ%3D%3D?line=4'>5</a>\u001b[0m max_increase \u001b[39m=\u001b[39m \u001b[39mmax\u001b[39m(list_change_profit)\n",
      "\u001b[1;31mTypeError\u001b[0m: unsupported operand type(s) for -: 'list' and 'int'"
     ]
    }
   ],
   "source": [
    "# Calculate the average change in profit/loss\n",
    "average_change = round(sum(list_change_profit) / (total_months - 1), 2)\n",
    "\n",
    "# Find the greatest increase and decrease in profits\n",
    "max_increase = max(list_change_profit)\n",
    "max_decrease = min(list_change_profit)\n",
    "\n",
    "# Find the corresponding dates for the greatest increase and decrease\n",
    "max_increase_date = list_Date[list_change_profit.index(max_increase) + 1]\n",
    "max_decrease_date = list_Date[list_change_profit.index(max_decrease) + 1]"
   ]
  },
  {
   "cell_type": "code",
   "execution_count": 40,
   "metadata": {},
   "outputs": [
    {
     "name": "stdout",
     "output_type": "stream",
     "text": [
      "[]\n"
     ]
    }
   ],
   "source": [
    "list_change_profit = []\n",
    "\n",
    "for i in range(1, len(list_profit_loss)):\n",
    "    change = list_profit_loss[i] - list_profit_loss[i - 1]\n",
    "    list_change_profit.append(change)  \n",
    "\n",
    "print(list_change_profit)"
   ]
  },
  {
   "cell_type": "code",
   "execution_count": 41,
   "metadata": {},
   "outputs": [],
   "source": [
    "\n",
    "total = sum(list_change_profit)\n",
    "\n",
    "bottom = len(list_profit_loss)\n",
    "\n"
   ]
  },
  {
   "cell_type": "code",
   "execution_count": 42,
   "metadata": {},
   "outputs": [
    {
     "ename": "ZeroDivisionError",
     "evalue": "division by zero",
     "output_type": "error",
     "traceback": [
      "\u001b[1;31m---------------------------------------------------------------------------\u001b[0m",
      "\u001b[1;31mZeroDivisionError\u001b[0m                         Traceback (most recent call last)",
      "\u001b[1;32mc:\\Users\\samus\\OneDrive\\Desktop\\UCB-VIRT-FIN-PT-09-2023-U-LOLC\\Starter_Code\\PyBank\\main.ipynb Cell 8\u001b[0m line \u001b[0;36m2\n\u001b[0;32m      <a href='vscode-notebook-cell:/c%3A/Users/samus/OneDrive/Desktop/UCB-VIRT-FIN-PT-09-2023-U-LOLC/Starter_Code/PyBank/main.ipynb#X10sZmlsZQ%3D%3D?line=0'>1</a>\u001b[0m \u001b[39m# Step 3: Divide the sum by the number of elements in the list to find the average\u001b[39;00m\n\u001b[1;32m----> <a href='vscode-notebook-cell:/c%3A/Users/samus/OneDrive/Desktop/UCB-VIRT-FIN-PT-09-2023-U-LOLC/Starter_Code/PyBank/main.ipynb#X10sZmlsZQ%3D%3D?line=1'>2</a>\u001b[0m average \u001b[39m=\u001b[39m total \u001b[39m/\u001b[39;49m bottom\n\u001b[0;32m      <a href='vscode-notebook-cell:/c%3A/Users/samus/OneDrive/Desktop/UCB-VIRT-FIN-PT-09-2023-U-LOLC/Starter_Code/PyBank/main.ipynb#X10sZmlsZQ%3D%3D?line=3'>4</a>\u001b[0m \u001b[39m# Step 4: Print the average\u001b[39;00m\n\u001b[0;32m      <a href='vscode-notebook-cell:/c%3A/Users/samus/OneDrive/Desktop/UCB-VIRT-FIN-PT-09-2023-U-LOLC/Starter_Code/PyBank/main.ipynb#X10sZmlsZQ%3D%3D?line=4'>5</a>\u001b[0m \u001b[39mprint\u001b[39m(\u001b[39m\"\u001b[39m\u001b[39mThe average is:\u001b[39m\u001b[39m\"\u001b[39m, average)\n",
      "\u001b[1;31mZeroDivisionError\u001b[0m: division by zero"
     ]
    }
   ],
   "source": [
    "# Step 3: Divide the sum by the number of elements in the list to find the average\n",
    "average = total / bottom\n",
    "\n",
    "# Step 4: Print the average\n",
    "print(\"The average is:\", average)"
   ]
  }
 ],
 "metadata": {
  "kernelspec": {
   "display_name": "dev",
   "language": "python",
   "name": "python3"
  },
  "language_info": {
   "codemirror_mode": {
    "name": "ipython",
    "version": 3
   },
   "file_extension": ".py",
   "mimetype": "text/x-python",
   "name": "python",
   "nbconvert_exporter": "python",
   "pygments_lexer": "ipython3",
   "version": "3.10.13"
  },
  "orig_nbformat": 4
 },
 "nbformat": 4,
 "nbformat_minor": 2
}
